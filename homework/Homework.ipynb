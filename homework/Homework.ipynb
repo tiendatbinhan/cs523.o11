{
 "cells": [
  {
   "cell_type": "markdown",
   "id": "8ac6a2ec-b9d5-48bd-99c4-a3f916eb07e7",
   "metadata": {
    "deletable": false,
    "editable": false,
    "nbgrader": {
     "cell_type": "markdown",
     "checksum": "0d3d8fadc3cc0e8b50dd2517425eb7f5",
     "grade": false,
     "grade_id": "cell-d80e05f168a45f4d",
     "locked": true,
     "schema_version": 3,
     "solution": false,
     "task": false
    }
   },
   "source": [
    "# Bài tập về nhà\n",
    "Bài tập về nhà của nhóm 4 về chủ đề K-dimensional Tree.\n",
    "\n",
    "Deadline: 11:59 PM ngày 31/12/2023.\n",
    "\n",
    "Sửa bài tập: Vào buổi học ngày 30/12/2023.\n",
    "\n",
    "Chú ý: Không được thêm/xóa cell đề bài ở câu 1, câu 2 và câu 3, nhưng có thể thêm cell vào dưới cell đề bài. Toàn bộ bài làm phải nằm trong notebook này. Sau khi hoàn thành, nộp notebook này dưới tên \"NhomX.ipynb\"."
   ]
  },
  {
   "cell_type": "markdown",
   "id": "ed37362d-1f38-498f-9221-174ed0ec9d10",
   "metadata": {
    "deletable": false,
    "editable": false,
    "nbgrader": {
     "cell_type": "markdown",
     "checksum": "abdbbda5da7cda59bfee13eaee045d35",
     "grade": false,
     "grade_id": "name_of_group",
     "locked": true,
     "schema_version": 3,
     "solution": false,
     "task": false
    }
   },
   "source": [
    "**Ghi tên nhóm vào đây:**"
   ]
  },
  {
   "cell_type": "markdown",
   "id": "0a821fb6-d13c-4978-a7f9-17416bf930a3",
   "metadata": {
    "deletable": false,
    "nbgrader": {
     "cell_type": "markdown",
     "checksum": "0bdcf95282d9420b3b9defa8262b9409",
     "grade": true,
     "grade_id": "cell-e822a9b4757c3a58",
     "locked": false,
     "points": 0,
     "schema_version": 3,
     "solution": true,
     "task": false
    }
   },
   "source": [
    "YOUR ANSWER HERE"
   ]
  },
  {
   "cell_type": "markdown",
   "id": "45b9cb88-0125-4eb3-be58-53827ff1fe24",
   "metadata": {
    "deletable": false,
    "editable": false,
    "nbgrader": {
     "cell_type": "markdown",
     "checksum": "52bf565c577f768814611831d995471e",
     "grade": false,
     "grade_id": "question_1_task",
     "locked": true,
     "points": 6,
     "schema_version": 3,
     "solution": false,
     "task": true
    }
   },
   "source": [
    "### Câu 1\n",
    "Hãy vẽ một K-dimensional Tree cân bằng cho tập hợp $S$ các điểm dưới đây:\n",
    "$$S=\\lbrace(12,2);(47,54);(18,57);(18,5);(35,30);(71,18);(82,27);(60,25);(40,27);(58,20)\\rbrace$$\n",
    "\n",
    "Có hai cách trình bày:\n",
    "1. Vẽ cây bằng máy hoặc chụp hình cây vẽ bằng tay, rồi ghi link của hình vẽ xuống phần bài làm (link phải công khai).\n",
    "2. Trình bày cây vào khối code trong markdown sử dụng bất cứ style được quy định ở [đây](https://anytree.readthedocs.io/en/latest/api/anytree.render.html#). Ví dụ, đây là cách trình bày sử dụng ASCII style:\n",
    "```\n",
    "(12,2)\n",
    "|--(47,54)\n",
    "|  |--(18,57)\n",
    "|  +--(18,5)\n",
    "+--(35,30)\n",
    "```\n",
    "Quy ước nếu trình bày như trên thì node con phía trên là node trái, node dưới là node phải."
   ]
  },
  {
   "cell_type": "markdown",
   "id": "b46b3c22-3d9b-4e31-9eb7-258c832fcfce",
   "metadata": {
    "deletable": false,
    "editable": false,
    "nbgrader": {
     "cell_type": "markdown",
     "checksum": "b381fbd5dd67ee4908bfc531fcc6b49a",
     "grade": false,
     "grade_id": "question_2_task",
     "locked": true,
     "points": 4,
     "schema_version": 3,
     "solution": false,
     "task": true
    }
   },
   "source": [
    "### Câu 2\n",
    "Sử dụng cây K-dimensional Tree ở câu 1, hãy vẽ lại cây sau khi thực hiện lần lượt các thao tác sau:\n",
    "\n",
    "* Thêm node $(36,42)$.\n",
    "* Xóa node $(60,25)$.\n",
    "\n",
    "Có hai cách trình bày:\n",
    "1. Vẽ cây bằng máy hoặc chụp hình cây vẽ bằng tay, rồi ghi link của hình vẽ xuống phần bài làm (link phải công khai).\n",
    "2. Trình bày cây vào khối code trong markdown sử dụng bất cứ style được quy định ở [đây](https://anytree.readthedocs.io/en/latest/api/anytree.render.html#). Ví dụ, đây là cách trình bày sử dụng ASCII style:\n",
    "```\n",
    "(12,2)\n",
    "|--(47,54)\n",
    "|  |--(18,57)\n",
    "|  +--(18,5)\n",
    "+--(35,30)\n",
    "```\n",
    "Quy ước nếu trình bày như trên thì node con phía trên là node trái, node dưới là node phải."
   ]
  },
  {
   "cell_type": "markdown",
   "id": "10575f74-9ed7-4240-b08f-171272a8ec6e",
   "metadata": {
    "deletable": false,
    "editable": false,
    "nbgrader": {
     "cell_type": "markdown",
     "checksum": "1e05f63bb5e6a458cedc86ea5651dd0d",
     "grade": false,
     "grade_id": "question_3_task",
     "locked": true,
     "points": 1,
     "schema_version": 3,
     "solution": false,
     "task": true
    }
   },
   "source": [
    "### Câu 3 (không bắt buộc)\n",
    "Hãy sử dụng thử thư viện K-dimensional Tree mà nhóm đã viết ra ở phần demo, hoặc tự cài đặt K-dimensional Tree, hoặc sử dụng thư viện K-dimensional Tree khác mà bạn biết để xây dựng một hệ thống music recommendation đơn giản dựa trên 5 đặc trưng (theo thứ tự): energy, danceability, happiness, acousticness và speechiness. Hệ thống này nên trả về 5 bài hát gần nhất với bài hát hiện tại. Gợi ý: sử dụng thao tác K-nearest Neighbors Search."
   ]
  }
 ],
 "metadata": {
  "kernelspec": {
   "display_name": "Python 3 (ipykernel)",
   "language": "python",
   "name": "python3"
  },
  "language_info": {
   "codemirror_mode": {
    "name": "ipython",
    "version": 3
   },
   "file_extension": ".py",
   "mimetype": "text/x-python",
   "name": "python",
   "nbconvert_exporter": "python",
   "pygments_lexer": "ipython3",
   "version": "3.11.5"
  }
 },
 "nbformat": 4,
 "nbformat_minor": 5
}
